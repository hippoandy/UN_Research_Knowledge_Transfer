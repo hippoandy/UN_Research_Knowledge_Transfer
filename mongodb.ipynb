{
 "cells": [
  {
   "cell_type": "code",
   "execution_count": 2,
   "metadata": {},
   "outputs": [],
   "source": [
    "from pymongo import MongoClient"
   ]
  },
  {
   "cell_type": "raw",
   "metadata": {},
   "source": [
    "> show dbs\n",
    "admin          0.000GB\n",
    "kickstarter    0.004GB\n",
    "kiva           1.838GB\n",
    "local          0.000GB\n",
    "mercadolibre  30.884GB\n",
    "uber           0.006GB"
   ]
  },
  {
   "cell_type": "code",
   "execution_count": 4,
   "metadata": {},
   "outputs": [],
   "source": [
    "''' connect to database '''\n",
    "client = MongoClient( 'ds-d1.cepal.org', 27017 )\n",
    "# connect to certain database\n",
    "db = client[ 'uber' ]"
   ]
  },
  {
   "cell_type": "raw",
   "metadata": {},
   "source": [
    "> use uber\n",
    "switched to db uber\n",
    "> db.getCollectionNames()\n",
    "[ \"products\" ]"
   ]
  },
  {
   "cell_type": "code",
   "execution_count": 5,
   "metadata": {},
   "outputs": [],
   "source": [
    "# connect to certain collection (table)\n",
    "collection = db[ 'products' ]"
   ]
  },
  {
   "cell_type": "code",
   "execution_count": 6,
   "metadata": {},
   "outputs": [
    {
     "name": "stdout",
     "output_type": "stream",
     "text": [
      "{'_id': ObjectId('5c912eafdd44c30e859df5a1'), 'country': 'Antigua and Barbuda', 'capital': \"St. John's\", 'lat': 17.1274104, 'lng': -61.84677199999999, 'date': '2019-03-19', 'time': '18:02:23', 'year': 2019, 'month': 3, 'day': 19, 'hour': 18, 'timestamp': 1553018543.0, 'products': [], 'count': 0}\n",
      "{'_id': ObjectId('5c912eb0dd44c30e859df5a2'), 'country': 'Aruba', 'capital': 'Oranjestad', 'lat': 12.509204400000002, 'lng': -70.0086306, 'date': '2019-03-19', 'time': '18:02:24', 'year': 2019, 'month': 3, 'day': 19, 'hour': 18, 'timestamp': 1553018544.0, 'products': [], 'count': 0}\n",
      "{'_id': ObjectId('5c912eb1dd44c30e859df5a3'), 'country': 'Bahamas', 'capital': 'Nassau', 'lat': 25.0479835, 'lng': -77.355413, 'date': '2019-03-19', 'time': '18:02:25', 'year': 2019, 'month': 3, 'day': 19, 'hour': 18, 'timestamp': 1553018545.0, 'products': [], 'count': 0}\n",
      "{'_id': ObjectId('5c912eb1dd44c30e859df5a4'), 'country': 'Barbados', 'capital': 'Bridgetown', 'lat': 13.0968511, 'lng': -59.61448189999999, 'date': '2019-03-19', 'time': '18:02:25', 'year': 2019, 'month': 3, 'day': 19, 'hour': 18, 'timestamp': 1553018545.0, 'products': [], 'count': 0}\n",
      "{'_id': ObjectId('5c912eb2dd44c30e859df5a5'), 'country': 'Cayman Islands', 'capital': 'George Town', 'lat': 19.2869323, 'lng': -81.36743890000001, 'date': '2019-03-19', 'time': '18:02:26', 'year': 2019, 'month': 3, 'day': 19, 'hour': 18, 'timestamp': 1553018546.0, 'products': [], 'count': 0}\n",
      "{'_id': ObjectId('5c912eb3dd44c30e859df5a6'), 'country': 'Dominica', 'capital': 'Roseau', 'lat': 15.3091676, 'lng': -61.37935539999999, 'date': '2019-03-19', 'time': '18:02:27', 'year': 2019, 'month': 3, 'day': 19, 'hour': 18, 'timestamp': 1553018547.0, 'products': [], 'count': 0}\n",
      "{'_id': ObjectId('5c912eb3dd44c30e859df5a7'), 'country': 'Grenada', 'capital': \"St. George's\", 'lat': 12.0560975, 'lng': -61.748799600000005, 'date': '2019-03-19', 'time': '18:02:27', 'year': 2019, 'month': 3, 'day': 19, 'hour': 18, 'timestamp': 1553018547.0, 'products': [], 'count': 0}\n",
      "{'_id': ObjectId('5c912eb4dd44c30e859df5a8'), 'country': 'Guadeloupe', 'capital': 'Basse-Terre', 'lat': 16.129629, 'lng': -61.653805000000006, 'date': '2019-03-19', 'time': '18:02:28', 'year': 2019, 'month': 3, 'day': 19, 'hour': 18, 'timestamp': 1553018548.0, 'products': [], 'count': 0}\n",
      "{'_id': ObjectId('5c912eb5dd44c30e859df5a9'), 'country': 'Jamaica', 'capital': 'Kingston', 'lat': 18.017874300000003, 'lng': -76.8099041, 'date': '2019-03-19', 'time': '18:02:29', 'year': 2019, 'month': 3, 'day': 19, 'hour': 18, 'timestamp': 1553018549.0, 'products': [], 'count': 0}\n",
      "{'_id': ObjectId('5c912eb5dd44c30e859df5aa'), 'country': 'Martinique', 'capital': 'Fort-de-France', 'lat': 14.616064699999999, 'lng': -61.0587804, 'date': '2019-03-19', 'time': '18:02:29', 'year': 2019, 'month': 3, 'day': 19, 'hour': 18, 'timestamp': 1553018549.0, 'products': [], 'count': 0}\n"
     ]
    }
   ],
   "source": [
    "# get all the data\n",
    "for d in collection.find().limit( 10 ):\n",
    "    print( d )"
   ]
  },
  {
   "cell_type": "code",
   "execution_count": null,
   "metadata": {},
   "outputs": [],
   "source": [
    "# find specific data\n",
    "for d in collection.find(\n",
    "    {\n",
    "        \"country\": \"chile\"\n",
    "    }\n",
    ").limit( 10 ):\n",
    "    print( d )"
   ]
  }
 ],
 "metadata": {
  "kernelspec": {
   "display_name": "Python 3",
   "language": "python",
   "name": "python3"
  },
  "language_info": {
   "codemirror_mode": {
    "name": "ipython",
    "version": 3
   },
   "file_extension": ".py",
   "mimetype": "text/x-python",
   "name": "python",
   "nbconvert_exporter": "python",
   "pygments_lexer": "ipython3",
   "version": "3.7.0"
  }
 },
 "nbformat": 4,
 "nbformat_minor": 2
}

{
 "cells": [
  {
   "cell_type": "code",
   "execution_count": 12,
   "metadata": {},
   "outputs": [],
   "source": [
    "from pymongo import MongoClient"
   ]
  },
  {
   "cell_type": "markdown",
   "metadata": {},
   "source": [
    "```\n",
    "admin          0.000GB\n",
    "kickstarter    0.004GB\n",
    "kiva           1.838GB\n",
    "local          0.000GB\n",
    "mercadolibre  30.884GB\n",
    "uber           0.006GB\n",
    "```"
   ]
  },
  {
   "cell_type": "code",
   "execution_count": 13,
   "metadata": {},
   "outputs": [],
   "source": [
    "''' connect to database '''\n",
    "client = MongoClient( 'ds-d1.cepal.org', 27017 )\n",
    "# connect to certain database\n",
    "db = client[ 'uber' ]"
   ]
  },
  {
   "cell_type": "markdown",
   "metadata": {},
   "source": [
    "```\n",
    "> use uber\n",
    "switched to db uber\n",
    "> db.getCollectionNames()\n",
    "[ \"products\" ]\n",
    "```"
   ]
  },
  {
   "cell_type": "code",
   "execution_count": 14,
   "metadata": {},
   "outputs": [],
   "source": [
    "# connect to certain collection (table)\n",
    "collection = db[ 'products' ]"
   ]
  },
  {
   "cell_type": "code",
   "execution_count": 15,
   "metadata": {},
   "outputs": [
    {
     "name": "stdout",
     "output_type": "stream",
     "text": [
      "{'_id': ObjectId('5c912eafdd44c30e859df5a1'), 'country': 'Antigua and Barbuda', 'capital': \"St. John's\", 'lat': 17.1274104, 'lng': -61.84677199999999, 'date': '2019-03-19', 'time': '18:02:23', 'year': 2019, 'month': 3, 'day': 19, 'hour': 18, 'timestamp': 1553018543.0, 'products': [], 'count': 0}\n",
      "{'_id': ObjectId('5c912eb0dd44c30e859df5a2'), 'country': 'Aruba', 'capital': 'Oranjestad', 'lat': 12.509204400000002, 'lng': -70.0086306, 'date': '2019-03-19', 'time': '18:02:24', 'year': 2019, 'month': 3, 'day': 19, 'hour': 18, 'timestamp': 1553018544.0, 'products': [], 'count': 0}\n",
      "{'_id': ObjectId('5c912eb1dd44c30e859df5a3'), 'country': 'Bahamas', 'capital': 'Nassau', 'lat': 25.0479835, 'lng': -77.355413, 'date': '2019-03-19', 'time': '18:02:25', 'year': 2019, 'month': 3, 'day': 19, 'hour': 18, 'timestamp': 1553018545.0, 'products': [], 'count': 0}\n"
     ]
    }
   ],
   "source": [
    "# get all the data\n",
    "for d in collection.find().limit( 3 ):\n",
    "    print( d )"
   ]
  },
  {
   "cell_type": "code",
   "execution_count": 17,
   "metadata": {},
   "outputs": [
    {
     "name": "stdout",
     "output_type": "stream",
     "text": [
      "{'_id': ObjectId('5c912ec0dd44c30e859df5ba'), 'country': 'Chile', 'capital': 'Santiago', 'lat': -33.4488897, 'lng': -70.66926550000001, 'date': '2019-03-19', 'time': '18:02:40', 'year': 2019, 'month': 3, 'day': 19, 'hour': 18, 'timestamp': 1553018560.0, 'products': [{'upfront_fare_enabled': True, 'capacity': 6, 'product_id': 'e122b549-f079-4801-8cff-1e45d0a39114', 'price_details': {'service_fees': [], 'cost_per_minute': 170.0, 'distance_unit': 'km', 'minimum': 2400.0, 'cost_per_distance': 400.0, 'base': 1250.0, 'cancellation_fee': 2400.0, 'currency_code': 'CLP'}, 'image': 'https://d1a3f4spazzrp4.cloudfront.net/car-types/mono/mono-uberxl2.png', 'cash_enabled': True, 'shared': False, 'short_description': 'UberXL', 'display_name': 'UberXL', 'product_group': 'uberxl', 'description': 'Affordable rides for groups up to 6'}, {'upfront_fare_enabled': True, 'capacity': 4, 'product_id': 'ee1789fb-dc00-4f12-b159-ad46d7b099b0', 'price_details': {'service_fees': [], 'cost_per_minute': 80.0, 'distance_unit': 'km', 'minimum': 1200.0, 'cost_per_distance': 220.0, 'base': 450.0, 'cancellation_fee': 1100.0, 'currency_code': 'CLP'}, 'image': 'https://d1a3f4spazzrp4.cloudfront.net/car-types/mono/mono-uberx.png', 'cash_enabled': True, 'shared': False, 'short_description': 'UberX SCL', 'display_name': 'UberX SCL', 'product_group': 'uberx', 'description': 'THE LOW-COST UBER'}, {'upfront_fare_enabled': True, 'capacity': 4, 'product_id': 'db9ab22a-f330-4ab1-b141-e845e9c5a26f', 'price_details': {'service_fees': [], 'cost_per_minute': 80.0, 'distance_unit': 'km', 'minimum': 1200.0, 'cost_per_distance': 220.0, 'base': 450.0, 'cancellation_fee': 1100.0, 'currency_code': 'CLP'}, 'image': 'https://d1a3f4spazzrp4.cloudfront.net/car-types/mono/mono-black.png', 'cash_enabled': True, 'shared': False, 'short_description': 'UberX', 'display_name': 'UberX', 'product_group': 'uberx', 'description': 'Affordable, everyday rides'}, {'upfront_fare_enabled': True, 'capacity': 4, 'product_id': '50116245-a963-4ede-b584-ed1a66bc3f4f', 'price_details': {'service_fees': [], 'cost_per_minute': 100.0, 'distance_unit': 'km', 'minimum': 1750.0, 'cost_per_distance': 250.0, 'base': 800.0, 'cancellation_fee': 1750.0, 'currency_code': 'CLP'}, 'image': 'https://d1a3f4spazzrp4.cloudfront.net/car-types/mono/mono-family.png', 'cash_enabled': True, 'shared': False, 'short_description': 'UberKids', 'display_name': 'UberKids', 'product_group': 'uberx', 'description': 'Rides equipped with a car seat'}, {'upfront_fare_enabled': True, 'capacity': 4, 'product_id': '24230831-a2a3-4f8f-a952-405d11caf343', 'price_details': {'service_fees': [], 'cost_per_minute': 170.0, 'distance_unit': 'km', 'minimum': 2500.0, 'cost_per_distance': 415.0, 'base': 1250.0, 'cancellation_fee': 2500.0, 'currency_code': 'CLP'}, 'image': 'https://d1a3f4spazzrp4.cloudfront.net/car-types/mono/mono-audi.png', 'cash_enabled': True, 'shared': False, 'short_description': 'Black', 'display_name': 'Black', 'product_group': 'uberblack', 'description': 'Premium rides in luxury cars'}, {'upfront_fare_enabled': True, 'capacity': 6, 'product_id': '03810848-8ad3-4bb9-b8e5-57890891c8b7', 'price_details': {'service_fees': [], 'cost_per_minute': 210.0, 'distance_unit': 'km', 'minimum': 3200.0, 'cost_per_distance': 500.0, 'base': 1600.0, 'cancellation_fee': 3200.0, 'currency_code': 'CLP'}, 'image': 'https://d1a3f4spazzrp4.cloudfront.net/car-types/mono/mono-suv.png', 'cash_enabled': True, 'shared': False, 'short_description': 'Black SUV', 'display_name': 'Black SUV', 'product_group': 'suv', 'description': 'Premium rides for 6 in luxury SUVs'}, {'upfront_fare_enabled': True, 'capacity': 4, 'product_id': '6c441778-03a3-4059-bccf-9a89c7da2d1a', 'price_details': {'service_fees': [], 'cost_per_minute': 95.0, 'distance_unit': 'km', 'minimum': 2900.0, 'cost_per_distance': 260.0, 'base': 1800.0, 'cancellation_fee': 1300.0, 'currency_code': 'CLP'}, 'image': 'https://d1a3f4spazzrp4.cloudfront.net/car-types/mono/mono-uberpop-bike.png', 'cash_enabled': True, 'shared': False, 'short_description': 'Bici', 'display_name': 'Bici', 'product_group': 'uberx', 'description': 'Affordable, everyday rides'}, {'upfront_fare_enabled': True, 'capacity': 4, 'product_id': 'b1f89190-2a1f-4a77-81df-309197f0aa4e', 'price_details': {'service_fees': [], 'cost_per_minute': 80.0, 'distance_unit': 'km', 'minimum': 1200.0, 'cost_per_distance': 220.0, 'base': 450.0, 'cancellation_fee': 1300.0, 'currency_code': 'CLP'}, 'image': 'https://d1a3f4spazzrp4.cloudfront.net/car-types/mono/mono-wheelchair.png', 'cash_enabled': True, 'shared': False, 'short_description': 'WAV', 'display_name': 'WAV', 'product_group': 'uberx', 'description': 'Wheelchair-accessible rides'}], 'count': 8}\n",
      "{'_id': ObjectId('5c913cf7dd44c30ecf55ce3a'), 'country': 'Chile', 'capital': 'Santiago', 'lat': -33.4488897, 'lng': -70.66926550000001, 'date': '2019-03-19', 'time': '19:03:19', 'year': 2019, 'month': 3, 'day': 19, 'hour': 19, 'timestamp': 1553022199.0, 'products': [{'upfront_fare_enabled': True, 'capacity': 6, 'product_id': 'e122b549-f079-4801-8cff-1e45d0a39114', 'price_details': {'service_fees': [], 'cost_per_minute': 170.0, 'distance_unit': 'km', 'minimum': 2400.0, 'cost_per_distance': 400.0, 'base': 1250.0, 'cancellation_fee': 2400.0, 'currency_code': 'CLP'}, 'image': 'https://d1a3f4spazzrp4.cloudfront.net/car-types/mono/mono-uberxl2.png', 'cash_enabled': True, 'shared': False, 'short_description': 'UberXL', 'display_name': 'UberXL', 'product_group': 'uberxl', 'description': 'Affordable rides for groups up to 6'}, {'upfront_fare_enabled': True, 'capacity': 4, 'product_id': 'ee1789fb-dc00-4f12-b159-ad46d7b099b0', 'price_details': {'service_fees': [], 'cost_per_minute': 80.0, 'distance_unit': 'km', 'minimum': 1200.0, 'cost_per_distance': 220.0, 'base': 450.0, 'cancellation_fee': 1100.0, 'currency_code': 'CLP'}, 'image': 'https://d1a3f4spazzrp4.cloudfront.net/car-types/mono/mono-uberx.png', 'cash_enabled': True, 'shared': False, 'short_description': 'UberX SCL', 'display_name': 'UberX SCL', 'product_group': 'uberx', 'description': 'THE LOW-COST UBER'}, {'upfront_fare_enabled': True, 'capacity': 4, 'product_id': 'db9ab22a-f330-4ab1-b141-e845e9c5a26f', 'price_details': {'service_fees': [], 'cost_per_minute': 80.0, 'distance_unit': 'km', 'minimum': 1200.0, 'cost_per_distance': 220.0, 'base': 450.0, 'cancellation_fee': 1100.0, 'currency_code': 'CLP'}, 'image': 'https://d1a3f4spazzrp4.cloudfront.net/car-types/mono/mono-black.png', 'cash_enabled': True, 'shared': False, 'short_description': 'UberX', 'display_name': 'UberX', 'product_group': 'uberx', 'description': 'Affordable, everyday rides'}, {'upfront_fare_enabled': True, 'capacity': 4, 'product_id': '50116245-a963-4ede-b584-ed1a66bc3f4f', 'price_details': {'service_fees': [], 'cost_per_minute': 100.0, 'distance_unit': 'km', 'minimum': 1750.0, 'cost_per_distance': 250.0, 'base': 800.0, 'cancellation_fee': 1750.0, 'currency_code': 'CLP'}, 'image': 'https://d1a3f4spazzrp4.cloudfront.net/car-types/mono/mono-family.png', 'cash_enabled': True, 'shared': False, 'short_description': 'UberKids', 'display_name': 'UberKids', 'product_group': 'uberx', 'description': 'Rides equipped with a car seat'}, {'upfront_fare_enabled': True, 'capacity': 4, 'product_id': '24230831-a2a3-4f8f-a952-405d11caf343', 'price_details': {'service_fees': [], 'cost_per_minute': 170.0, 'distance_unit': 'km', 'minimum': 2500.0, 'cost_per_distance': 415.0, 'base': 1250.0, 'cancellation_fee': 2500.0, 'currency_code': 'CLP'}, 'image': 'https://d1a3f4spazzrp4.cloudfront.net/car-types/mono/mono-audi.png', 'cash_enabled': True, 'shared': False, 'short_description': 'Black', 'display_name': 'Black', 'product_group': 'uberblack', 'description': 'Premium rides in luxury cars'}, {'upfront_fare_enabled': True, 'capacity': 6, 'product_id': '03810848-8ad3-4bb9-b8e5-57890891c8b7', 'price_details': {'service_fees': [], 'cost_per_minute': 210.0, 'distance_unit': 'km', 'minimum': 3200.0, 'cost_per_distance': 500.0, 'base': 1600.0, 'cancellation_fee': 3200.0, 'currency_code': 'CLP'}, 'image': 'https://d1a3f4spazzrp4.cloudfront.net/car-types/mono/mono-suv.png', 'cash_enabled': True, 'shared': False, 'short_description': 'Black SUV', 'display_name': 'Black SUV', 'product_group': 'suv', 'description': 'Premium rides for 6 in luxury SUVs'}, {'upfront_fare_enabled': True, 'capacity': 4, 'product_id': '6c441778-03a3-4059-bccf-9a89c7da2d1a', 'price_details': {'service_fees': [], 'cost_per_minute': 95.0, 'distance_unit': 'km', 'minimum': 2900.0, 'cost_per_distance': 260.0, 'base': 1800.0, 'cancellation_fee': 1300.0, 'currency_code': 'CLP'}, 'image': 'https://d1a3f4spazzrp4.cloudfront.net/car-types/mono/mono-uberpop-bike.png', 'cash_enabled': True, 'shared': False, 'short_description': 'Bici', 'display_name': 'Bici', 'product_group': 'uberx', 'description': 'Affordable, everyday rides'}, {'upfront_fare_enabled': True, 'capacity': 4, 'product_id': 'b1f89190-2a1f-4a77-81df-309197f0aa4e', 'price_details': {'service_fees': [], 'cost_per_minute': 80.0, 'distance_unit': 'km', 'minimum': 1200.0, 'cost_per_distance': 220.0, 'base': 450.0, 'cancellation_fee': 1300.0, 'currency_code': 'CLP'}, 'image': 'https://d1a3f4spazzrp4.cloudfront.net/car-types/mono/mono-wheelchair.png', 'cash_enabled': True, 'shared': False, 'short_description': 'WAV', 'display_name': 'WAV', 'product_group': 'uberx', 'description': 'Wheelchair-accessible rides'}], 'count': 8}\n",
      "{'_id': ObjectId('5c914ad6dd44c30f1a4ad38a'), 'country': 'Chile', 'capital': 'Santiago', 'lat': -33.4488897, 'lng': -70.66926550000001, 'date': '2019-03-19', 'time': '20:02:30', 'year': 2019, 'month': 3, 'day': 19, 'hour': 20, 'timestamp': 1553025750.0, 'products': [{'upfront_fare_enabled': True, 'capacity': 6, 'product_id': 'e122b549-f079-4801-8cff-1e45d0a39114', 'price_details': {'service_fees': [], 'cost_per_minute': 170.0, 'distance_unit': 'km', 'minimum': 2400.0, 'cost_per_distance': 400.0, 'base': 1250.0, 'cancellation_fee': 2400.0, 'currency_code': 'CLP'}, 'image': 'https://d1a3f4spazzrp4.cloudfront.net/car-types/mono/mono-uberxl2.png', 'cash_enabled': True, 'shared': False, 'short_description': 'UberXL', 'display_name': 'UberXL', 'product_group': 'uberxl', 'description': 'Affordable rides for groups up to 6'}, {'upfront_fare_enabled': True, 'capacity': 4, 'product_id': 'ee1789fb-dc00-4f12-b159-ad46d7b099b0', 'price_details': {'service_fees': [], 'cost_per_minute': 80.0, 'distance_unit': 'km', 'minimum': 1200.0, 'cost_per_distance': 220.0, 'base': 450.0, 'cancellation_fee': 1100.0, 'currency_code': 'CLP'}, 'image': 'https://d1a3f4spazzrp4.cloudfront.net/car-types/mono/mono-uberx.png', 'cash_enabled': True, 'shared': False, 'short_description': 'UberX SCL', 'display_name': 'UberX SCL', 'product_group': 'uberx', 'description': 'THE LOW-COST UBER'}, {'upfront_fare_enabled': True, 'capacity': 4, 'product_id': 'db9ab22a-f330-4ab1-b141-e845e9c5a26f', 'price_details': {'service_fees': [], 'cost_per_minute': 80.0, 'distance_unit': 'km', 'minimum': 1200.0, 'cost_per_distance': 220.0, 'base': 450.0, 'cancellation_fee': 1100.0, 'currency_code': 'CLP'}, 'image': 'https://d1a3f4spazzrp4.cloudfront.net/car-types/mono/mono-black.png', 'cash_enabled': True, 'shared': False, 'short_description': 'UberX', 'display_name': 'UberX', 'product_group': 'uberx', 'description': 'Affordable, everyday rides'}, {'upfront_fare_enabled': True, 'capacity': 4, 'product_id': '50116245-a963-4ede-b584-ed1a66bc3f4f', 'price_details': {'service_fees': [], 'cost_per_minute': 100.0, 'distance_unit': 'km', 'minimum': 1750.0, 'cost_per_distance': 250.0, 'base': 800.0, 'cancellation_fee': 1750.0, 'currency_code': 'CLP'}, 'image': 'https://d1a3f4spazzrp4.cloudfront.net/car-types/mono/mono-family.png', 'cash_enabled': True, 'shared': False, 'short_description': 'UberKids', 'display_name': 'UberKids', 'product_group': 'uberx', 'description': 'Rides equipped with a car seat'}, {'upfront_fare_enabled': True, 'capacity': 4, 'product_id': '24230831-a2a3-4f8f-a952-405d11caf343', 'price_details': {'service_fees': [], 'cost_per_minute': 170.0, 'distance_unit': 'km', 'minimum': 2500.0, 'cost_per_distance': 415.0, 'base': 1250.0, 'cancellation_fee': 2500.0, 'currency_code': 'CLP'}, 'image': 'https://d1a3f4spazzrp4.cloudfront.net/car-types/mono/mono-audi.png', 'cash_enabled': True, 'shared': False, 'short_description': 'Black', 'display_name': 'Black', 'product_group': 'uberblack', 'description': 'Premium rides in luxury cars'}, {'upfront_fare_enabled': True, 'capacity': 6, 'product_id': '03810848-8ad3-4bb9-b8e5-57890891c8b7', 'price_details': {'service_fees': [], 'cost_per_minute': 210.0, 'distance_unit': 'km', 'minimum': 3200.0, 'cost_per_distance': 500.0, 'base': 1600.0, 'cancellation_fee': 3200.0, 'currency_code': 'CLP'}, 'image': 'https://d1a3f4spazzrp4.cloudfront.net/car-types/mono/mono-suv.png', 'cash_enabled': True, 'shared': False, 'short_description': 'Black SUV', 'display_name': 'Black SUV', 'product_group': 'suv', 'description': 'Premium rides for 6 in luxury SUVs'}, {'upfront_fare_enabled': True, 'capacity': 4, 'product_id': '6c441778-03a3-4059-bccf-9a89c7da2d1a', 'price_details': {'service_fees': [], 'cost_per_minute': 95.0, 'distance_unit': 'km', 'minimum': 2900.0, 'cost_per_distance': 260.0, 'base': 1800.0, 'cancellation_fee': 1300.0, 'currency_code': 'CLP'}, 'image': 'https://d1a3f4spazzrp4.cloudfront.net/car-types/mono/mono-uberpop-bike.png', 'cash_enabled': True, 'shared': False, 'short_description': 'Bici', 'display_name': 'Bici', 'product_group': 'uberx', 'description': 'Affordable, everyday rides'}, {'upfront_fare_enabled': True, 'capacity': 4, 'product_id': 'b1f89190-2a1f-4a77-81df-309197f0aa4e', 'price_details': {'service_fees': [], 'cost_per_minute': 80.0, 'distance_unit': 'km', 'minimum': 1200.0, 'cost_per_distance': 220.0, 'base': 450.0, 'cancellation_fee': 1300.0, 'currency_code': 'CLP'}, 'image': 'https://d1a3f4spazzrp4.cloudfront.net/car-types/mono/mono-wheelchair.png', 'cash_enabled': True, 'shared': False, 'short_description': 'WAV', 'display_name': 'WAV', 'product_group': 'uberx', 'description': 'Wheelchair-accessible rides'}], 'count': 8}\n"
     ]
    }
   ],
   "source": [
    "# find specific data\n",
    "for d in collection.find(\n",
    "    {\n",
    "        \"country\": \"Chile\"\n",
    "    }\n",
    ").limit( 3 ):\n",
    "    print( d )"
   ]
  },
  {
   "cell_type": "code",
   "execution_count": null,
   "metadata": {},
   "outputs": [],
   "source": []
  }
 ],
 "metadata": {
  "kernelspec": {
   "display_name": "Python 3",
   "language": "python",
   "name": "python3"
  },
  "language_info": {
   "codemirror_mode": {
    "name": "ipython",
    "version": 3
   },
   "file_extension": ".py",
   "mimetype": "text/x-python",
   "name": "python",
   "nbconvert_exporter": "python",
   "pygments_lexer": "ipython3",
   "version": "3.7.0"
  }
 },
 "nbformat": 4,
 "nbformat_minor": 2
}

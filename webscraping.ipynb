{
 "cells": [
  {
   "cell_type": "code",
   "execution_count": 2,
   "metadata": {},
   "outputs": [],
   "source": [
    "from bs4 import BeautifulSoup"
   ]
  },
  {
   "cell_type": "code",
   "execution_count": 3,
   "metadata": {},
   "outputs": [],
   "source": [
    "import requests\n",
    "import pandas as pd\n",
    "import numpy as np"
   ]
  },
  {
   "cell_type": "code",
   "execution_count": 4,
   "metadata": {},
   "outputs": [],
   "source": [
    "# the website url\n",
    "base_url = 'https://www.freelancer.com/freelancers/'"
   ]
  },
  {
   "cell_type": "code",
   "execution_count": 5,
   "metadata": {},
   "outputs": [],
   "source": [
    "header = ['name', 'reviews', 'rating']\n",
    "# dataframe to contain the data\n",
    "df = pd.DataFrame( columns=header )        "
   ]
  },
  {
   "cell_type": "code",
   "execution_count": 6,
   "metadata": {},
   "outputs": [],
   "source": [
    "### start scraping\n",
    "\n",
    "# get web code\n",
    "url = base_url\n",
    "r = requests.get( url )\n",
    "# print( r.text )"
   ]
  },
  {
   "cell_type": "code",
   "execution_count": 7,
   "metadata": {},
   "outputs": [],
   "source": [
    "# BeautifulSoup parser\n",
    "soup = BeautifulSoup( r.text, 'html.parser' )"
   ]
  },
  {
   "cell_type": "markdown",
   "metadata": {},
   "source": [
    "```html\n",
    "<li class=\"ns_result \">\n",
    "<a href=\"/u/fourtunedesign\" class=\"freelancer-profile-wrapper ImageThumbnail\" target=\"_blank\" hireme-source=\"DirectoryPage\" hireme-event=\"ProfileRedirect\" hireme-label=\"ProfileImage\">\n",
    "    <img class=\"ImageThumbnail-image\" src=\"https://cdn3.f-cdn.com/ppic/116490258/logo/1925512/profile_logo_1925512.jpg\" alt=\"Hire fourtunedesign\">\n",
    "</a>\n",
    "\n",
    "<div class=\"freelancer-details\">\n",
    "    <div class=\"freelancer-details-header\">\n",
    "        <h3>\n",
    "            <span class=\"online-status onlineoffline_1925512\" data-is_online=\"1\" data-idx=\"37\" style=\"display: inline-block!important;\"></span>\n",
    "            <a href=\"/u/fourtunedesign\" class=\"find-freelancer-username\" hireme-source=\"DirectoryPage\" hireme-event=\"ProfileRedirect\" hireme-label=\"Username\" target=\"_blank\">\n",
    "                fourtunedesign\n",
    "            </a>\n",
    "        </h3>\n",
    "        \n",
    "            <img alt=\"India\" src=\"https://cdn5.f-cdn.com/img/flags/png/in.png?v=b0c4b5f62b04db2b53390284a5e9cc3c&amp;m=6\" class=\"flag-icon\" title=\"India\" aria-label=\"India\">\n",
    "        \n",
    "        \n",
    "        \n",
    "            <div class=\"directory-cta-wrapper\">\n",
    "                \n",
    "\n",
    "                \n",
    "                <a class=\"btn btn-mini fl-bt-skin directory-hireme\n",
    "                    \n",
    "                    hireme_btn\" hireme-source=\"DirectoryPage\" hireme-event=\"ShowModal\" data-user_id=\"1925512\" data-idx=\"37\">\n",
    "                    <span class=\"fl-icon-bird\"></span>\n",
    "                    Hire Me\n",
    "                </a>\n",
    "                \n",
    "            </div>\n",
    "        \n",
    "    </div>\n",
    "    <div class=\"freelancer-card-stats\">\n",
    "\n",
    "             <span class=\"Rating Rating--labeled\" data-star_rating=\"4.9\">\n",
    "            <span class=\"Rating-total\">\n",
    "                <span class=\"Rating-progress\"></span>\n",
    "            </span>\n",
    "        </span>\n",
    "    \n",
    "        <div class=\"Earnings\" data-user_earnings=\"8.9\" data-toggle=\"tooltip\" data-placement=\"bottom\" data-original-title=\"Amount earned doing projects in this skill or category. Increases as projects are successfully completed and paid through the site.\">\n",
    "            <span class=\"Earnings-label freelancer-user-earnings\">\n",
    "                8.9\n",
    "            </span>\n",
    "            <span class=\"Earnings-icon\"></span>\n",
    "            <span class=\"Earnings-total\">\n",
    "                <span class=\"Earnings-progress\" style=\"width:88.974%\">\n",
    "                </span>\n",
    "            </span>\n",
    "        </div>\n",
    "        <span class=\"Rating-review\">\n",
    "            <a href=\"/u/fourtunedesign\" target=\"_blank\" hireme-source=\"DirectoryPage\" hireme-event=\"ProfileRedirect\" hireme-label=\"ProfileReviews\">\n",
    "                2748 reviews\n",
    "            </a>\n",
    "        </span>\n",
    "        <span class=\"user-hourly-rate freelancer-hourlyrate\" freelancer-hourlyrate=\"\" data-hourlyrate=\"18\">$18 USD per hour</span>\n",
    "    </div>\n",
    "    <div class=\"top-skills\">\n",
    "        \n",
    "        <a style=\"color: black; text-decoration: none;\" onmouseover=\"this.style.textDecoration = 'underline'\" onmouseout=\"this.style.textDecoration = 'none'\" href=\"/freelancers/skills/graphic_design/\" job_id=\"20\">Graphic Design</a>, \n",
    "\n",
    "        \n",
    "        <a style=\"color: black; text-decoration: none;\" onmouseover=\"this.style.textDecoration = 'underline'\" onmouseout=\"this.style.textDecoration = 'none'\" href=\"/freelancers/skills/logo_design/\" job_id=\"32\">Logo Design</a>, \n",
    "\n",
    "        \n",
    "        <a style=\"color:black;\" onmouseover=\"this.style.textDecoration = 'underline'\" onmouseout=\"this.style.textDecoration = 'none'\" href=\"/freelancers/skills/website_design/\" job_id=\"17\">Website Design</a>, \n",
    "\n",
    "        \n",
    "        <a style=\"color: black; text-decoration: none;\" onmouseover=\"this.style.textDecoration = 'underline'\" onmouseout=\"this.style.textDecoration = 'none'\" href=\"/freelancers/skills/photoshop/\" job_id=\"57\">Photoshop</a>, \n",
    "\n",
    "        \n",
    "        <a style=\"color:black;\" onmouseover=\"this.style.textDecoration = 'underline'\" onmouseout=\"this.style.textDecoration = 'none'\" href=\"/freelancers/skills/html/\" job_id=\"335\">HTML</a>\n",
    "\n",
    "        \n",
    "    </div>\n",
    "    <div class=\"bio truncProfile\"><span class=\"profile_text\">Hi,\n",
    "\n",
    "Fourtunedesign is a web &amp; graphic design company. We are specialized in various platforms and working on different fields such as logo &amp; graphic design, website design, web development &amp; print media.\n",
    "\n",
    "As we mentioned that our specialization is customized logo designing and web designing so we provide 100%...</span> <a class=\"seeMore\" data-action=\"more\" style=\"display:none\">more</a></div>\n",
    "    <div class=\"bio cleanProfile\"><span class=\"profile_text\">Hi,\n",
    "\n",
    "Fourtunedesign is a web &amp; graphic design company. We are specialized in various platforms and working on different fields such as logo &amp; graphic design, website design, web development &amp; print media.\n",
    "\n",
    "As we mentioned that our specialization is customized logo designing and web designing so we provide 100% original work.\n",
    "\n",
    "Please find the attachment for some of the designs we have created so far.\n",
    "\n",
    "We believe in 100% customer satisfactory work, so our designing packages have flexible pricing and unlimited revision until your satisfaction.\n",
    "\n",
    "Communication and Feedback's are the most important input from you so we are available around 16-18 hrs a day.</span> <a class=\"seeMore\" data-action=\"less\">less</a></div>\n",
    "</div>\n",
    "</li>\n",
    "```"
   ]
  },
  {
   "cell_type": "code",
   "execution_count": 8,
   "metadata": {},
   "outputs": [],
   "source": [
    "workers = soup.find_all( 'li', class_='ns_result' )\n",
    "# print( workers )"
   ]
  },
  {
   "cell_type": "code",
   "execution_count": 12,
   "metadata": {},
   "outputs": [],
   "source": [
    "def clean_str( s ):\n",
    "    # remove special chars\n",
    "    s = s.replace( '\\n', '' ).replace( '\\t', '' ).replace( '\\r', '' )\n",
    "    # clear all the spaces\n",
    "    s = s.strip()\n",
    "    return s\n",
    "\n",
    "for d in workers:\n",
    "    # to store the value\n",
    "    row = []\n",
    "    \n",
    "    # get the name of the applicant\n",
    "    ele = d.find( 'a', class_='find-freelancer-username' )\n",
    "    val = ele.text\n",
    "    row.append( clean_str( val ) )\n",
    "\n",
    "    # get how many reviews\n",
    "    ele = d.find( 'span', class_='Rating-review' )\n",
    "    val = ele.text\n",
    "    row.append( clean_str( val ) )\n",
    "\n",
    "    # get hourly rate\n",
    "    ele = d.find( 'span', class_='user-hourly-rate' )\n",
    "    val = ele.text\n",
    "    row.append( clean_str( val ) )\n",
    "    \n",
    "    print( row )\n",
    "    \n",
    "    # commit the result\n",
    "    df = df.append( pd.Series( row, index=df.columns ), ignore_index=True )"
   ]
  },
  {
   "cell_type": "code",
   "execution_count": 13,
   "metadata": {},
   "outputs": [
    {
     "name": "stdout",
     "output_type": "stream",
     "text": [
      "                name       reviews            rating\n",
      "0       bhawanbaweja   241 reviews  $25 USD per hour\n",
      "1             xyzseo  1165 reviews   $4 USD per hour\n",
      "2          dreams3ds   530 reviews  $20 USD per hour\n",
      "3   nataliaomelchenk    78 reviews  $45 USD per hour\n",
      "4       WebTechSEO12   627 reviews  $12 USD per hour\n",
      "5      sachinswami25   214 reviews   $5 USD per hour\n",
      "6          Harvey888   317 reviews  $50 USD per hour\n",
      "7      futivetechnet    83 reviews  $25 USD per hour\n",
      "8    weblinkbuilding  1772 reviews   $4 USD per hour\n",
      "9          tojisb059   576 reviews  $35 USD per hour\n",
      "10      bhawanbaweja   241 reviews  $25 USD per hour\n",
      "11            xyzseo  1165 reviews   $4 USD per hour\n",
      "12         dreams3ds   530 reviews  $20 USD per hour\n",
      "13  nataliaomelchenk    78 reviews  $45 USD per hour\n",
      "14      WebTechSEO12   627 reviews  $12 USD per hour\n",
      "15     sachinswami25   214 reviews   $5 USD per hour\n",
      "16         Harvey888   317 reviews  $50 USD per hour\n",
      "17     futivetechnet    83 reviews  $25 USD per hour\n",
      "18   weblinkbuilding  1772 reviews   $4 USD per hour\n",
      "19         tojisb059   576 reviews  $35 USD per hour\n"
     ]
    }
   ],
   "source": [
    "print( df )"
   ]
  },
  {
   "cell_type": "code",
   "execution_count": 11,
   "metadata": {},
   "outputs": [],
   "source": [
    "# df.to_csv( 'test.csv', index=False )"
   ]
  },
  {
   "cell_type": "code",
   "execution_count": null,
   "metadata": {},
   "outputs": [],
   "source": []
  }
 ],
 "metadata": {
  "kernelspec": {
   "display_name": "Python 3",
   "language": "python",
   "name": "python3"
  },
  "language_info": {
   "codemirror_mode": {
    "name": "ipython",
    "version": 3
   },
   "file_extension": ".py",
   "mimetype": "text/x-python",
   "name": "python",
   "nbconvert_exporter": "python",
   "pygments_lexer": "ipython3",
   "version": "3.7.3"
  }
 },
 "nbformat": 4,
 "nbformat_minor": 2
}
